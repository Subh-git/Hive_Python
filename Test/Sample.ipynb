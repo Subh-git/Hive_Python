{
 "cells": [
  {
   "cell_type": "code",
   "execution_count": 2,
   "metadata": {},
   "outputs": [
    {
     "data": {
      "text/plain": [
       "'\\n@Author: Subhadeep Bhattacharjee\\n@Date: 2022-01-26 16:00\\n@Title: Visualisation of some queries on cpu log data\\n\\n'"
      ]
     },
     "execution_count": 2,
     "metadata": {},
     "output_type": "execute_result"
    }
   ],
   "source": [
    "'''\n",
    "@Author: Subhadeep Bhattacharjee\n",
    "@Date: 2022-01-26 16:00\n",
    "@Title: Performing some queries on test data.\n",
    "\n",
    "'''"
   ]
  },
  {
   "cell_type": "code",
   "execution_count": 3,
   "metadata": {},
   "outputs": [],
   "source": [
    "from pyhive import hive\n",
    "import pandas as pd\n"
   ]
  },
  {
   "cell_type": "code",
   "execution_count": 4,
   "metadata": {},
   "outputs": [
    {
     "name": "stdout",
     "output_type": "stream",
     "text": [
      "Database created successfully!\n"
     ]
    }
   ],
   "source": [
    "conn = hive.Connection(host=\"localhost\", port=10000)\n",
    "cursor = conn.cursor()\n",
    "try:\n",
    "    cursor.execute(\"CREATE DATABASE student\")\n",
    "    print(\"Database created successfully!\")\n",
    "\n",
    "except Exception as e:\n",
    "    print(e)"
   ]
  },
  {
   "cell_type": "code",
   "execution_count": 5,
   "metadata": {},
   "outputs": [
    {
     "name": "stdout",
     "output_type": "stream",
     "text": [
      "Table created successfully!\n",
      "No result set\n",
      "Select using where clause.\n",
      "  stu_details.name  stu_details.roll_no  stu_details.class  stu_details.age\n",
      "0           Donald                    1                 12               19\n",
      "1          Champak                    2                 12               18\n",
      "2            Shyam                    3                 11               17\n"
     ]
    }
   ],
   "source": [
    "try:\n",
    "    cursor.execute(\"use student\")\n",
    "    cursor.execute(\"CREATE TABLE stu_details(Name string, Roll_No int, Class int, Age int)row format delimited fields terminated by ',' stored as textfile location '/hd/' tblproperties('skip.header.line.count'='1')\")\n",
    "    print(\"Table created successfully!\")\n",
    "    result = cursor.fetchall()\n",
    "    for i in result:\n",
    "        print(i)\n",
    "\n",
    "except Exception as e:\n",
    "    print(e)\n",
    "\n",
    "try:\n",
    "    df= pd.read_sql(\"Select * from stu_details where Age > 15\",conn)\n",
    "    print(\"Select using where clause.\")\n",
    "    print(df)\n",
    "\n",
    "except Exception as e:\n",
    "    print(e)\n"
   ]
  },
  {
   "cell_type": "code",
   "execution_count": 6,
   "metadata": {},
   "outputs": [
    {
     "name": "stdout",
     "output_type": "stream",
     "text": [
      "Sorting\n",
      "('Anirudh', 8)\n",
      "('Subham', 8)\n",
      "('Ron', 9)\n",
      "('Rahul', 9)\n",
      "('Shyam', 11)\n",
      "('Champak', 12)\n",
      "('Donald', 12)\n"
     ]
    }
   ],
   "source": [
    "try: \n",
    "    cursor.execute(\"Select Name, Class from stu_details sort by Class\")\n",
    "    print(\"Sorting\")\n",
    "    result = cursor.fetchall()\n",
    "    for i in result:\n",
    "        print(i)\n",
    "\n",
    "except Exception as e:\n",
    "    print(e)"
   ]
  },
  {
   "cell_type": "code",
   "execution_count": null,
   "metadata": {},
   "outputs": [],
   "source": []
  }
 ],
 "metadata": {
  "interpreter": {
   "hash": "31f2aee4e71d21fbe5cf8b01ff0e069b9275f58929596ceb00d14d90e3e16cd6"
  },
  "kernelspec": {
   "display_name": "Python 3.8.10 64-bit",
   "language": "python",
   "name": "python3"
  },
  "language_info": {
   "codemirror_mode": {
    "name": "ipython",
    "version": 3
   },
   "file_extension": ".py",
   "mimetype": "text/x-python",
   "name": "python",
   "nbconvert_exporter": "python",
   "pygments_lexer": "ipython3",
   "version": "3.8.10"
  },
  "orig_nbformat": 4
 },
 "nbformat": 4,
 "nbformat_minor": 2
}
